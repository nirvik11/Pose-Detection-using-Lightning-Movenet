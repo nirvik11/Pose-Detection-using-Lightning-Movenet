{
  "nbformat": 4,
  "nbformat_minor": 0,
  "metadata": {
    "colab": {
      "provenance": []
    },
    "kernelspec": {
      "name": "python3",
      "display_name": "Python 3"
    },
    "language_info": {
      "name": "python"
    }
  },
  "cells": [
    {
      "cell_type": "code",
      "execution_count": 1,
      "metadata": {
        "id": "pmBqh1CDA3_Y"
      },
      "outputs": [],
      "source": [
        "import numpy as np\n",
        "import matplotlib.pyplot as plt\n",
        "import tensorflow as tf\n",
        "import tensorflow_hub as hub\n",
        "import cv2"
      ]
    },
    {
      "cell_type": "code",
      "source": [
        "gpus = tf.config.experimental.list_physical_devices('GPU')\n",
        "for gpu in gpus:\n",
        "  tf.config.experimental.set_memory_growth(gpu, True)"
      ],
      "metadata": {
        "id": "yOHqNzPnDIGX"
      },
      "execution_count": 2,
      "outputs": []
    },
    {
      "cell_type": "markdown",
      "source": [
        "# Load Model"
      ],
      "metadata": {
        "id": "APToPV7XFml4"
      }
    },
    {
      "cell_type": "code",
      "source": [
        "model = hub.load('https://tfhub.dev/google/movenet/multipose/lightning/1')\n",
        "movenet = model.signatures['serving_default']"
      ],
      "metadata": {
        "id": "50eODAZwE1iM"
      },
      "execution_count": 3,
      "outputs": []
    },
    {
      "cell_type": "markdown",
      "source": [
        "# Make Detections"
      ],
      "metadata": {
        "id": "pF8XVnheHG6N"
      }
    },
    {
      "cell_type": "code",
      "source": [
        "from google.colab.patches import cv2_imshow"
      ],
      "metadata": {
        "id": "-C8TWC_HHqXd"
      },
      "execution_count": 4,
      "outputs": []
    },
    {
      "cell_type": "code",
      "source": [
        "cap = cv2.VideoCapture('novak.mp4')\n",
        "while cap.isOpened():\n",
        "    ret, frame = cap.read()\n",
        "\n",
        "    # Resize image\n",
        "    img = frame.copy()\n",
        "    img = tf.image.resize_with_pad(tf.expand_dims(img, axis=0), 384,640)\n",
        "    input_img = tf.cast(img, dtype=tf.int32)\n",
        "\n",
        "    # Detection section\n",
        "    results = movenet(input_img)\n",
        "    keypoints_with_scores = results['output_0'].numpy()[:,:,:51].reshape((6,17,3))\n",
        "\n",
        "    # Render keypoints\n",
        "    loop_through_people(frame, keypoints_with_scores, EDGES, 0.3)\n",
        "\n",
        "    cv2.imshow('Movenet Multipose', frame)\n",
        "\n",
        "    if cv2.waitKey(10) & 0xFF==ord('q'):\n",
        "        break\n",
        "cap.release()\n",
        "cv2.destroyAllWindows()"
      ],
      "metadata": {
        "id": "xKFXAlijF9NP"
      },
      "execution_count": null,
      "outputs": []
    },
    {
      "cell_type": "code",
      "source": [
        "def loop_through_people(frame, keypoints_with_scores, edges, conf_threshold):\n",
        "  for person in keypoints_with_scores:\n",
        "    draw_connections(frame, keypoints_with_scores, edges, conf_threshold)\n",
        "    draw_keypoints(frame, keypoints_with_scores, edges, conf_threshold)"
      ],
      "metadata": {
        "id": "g9GPYYpkSPUL"
      },
      "execution_count": 23,
      "outputs": []
    },
    {
      "cell_type": "code",
      "source": [
        "results['output_0'].numpy()[:,:,:51]"
      ],
      "metadata": {
        "colab": {
          "base_uri": "https://localhost:8080/"
        },
        "id": "Zw2A4BTvHtTX",
        "outputId": "6551f4b1-c6ba-4fd9-b581-c4e8c210b24f"
      },
      "execution_count": 16,
      "outputs": [
        {
          "output_type": "execute_result",
          "data": {
            "text/plain": [
              "array([[[1.7799221e-01, 4.0958679e-01, 4.1435906e-01, 1.6291671e-01,\n",
              "         4.1052088e-01, 5.2553320e-01, 1.6003484e-01, 4.1072327e-01,\n",
              "         5.4811490e-01, 1.7521827e-01, 4.1780719e-01, 4.4902220e-01,\n",
              "         1.6778123e-01, 4.2501676e-01, 4.0875506e-01, 2.3006925e-01,\n",
              "         4.0721866e-01, 4.7114304e-01, 2.3116431e-01, 4.5973629e-01,\n",
              "         6.1585945e-01, 2.5058633e-01, 3.6595029e-01, 4.7878930e-01,\n",
              "         2.7641451e-01, 4.0374762e-01, 1.9449973e-01, 2.0100294e-01,\n",
              "         3.4056681e-01, 2.8394529e-01, 2.1557394e-01, 3.7913957e-01,\n",
              "         1.5448301e-01, 3.9263183e-01, 4.2915469e-01, 6.1935508e-01,\n",
              "         3.8846987e-01, 4.4787031e-01, 7.2410578e-01, 5.2979934e-01,\n",
              "         4.2479044e-01, 6.1726105e-01, 5.2529871e-01, 4.4003224e-01,\n",
              "         6.3815635e-01, 6.7644632e-01, 4.3422964e-01, 2.8999466e-01,\n",
              "         6.4835221e-01, 4.6975422e-01, 3.6746794e-01],\n",
              "        [1.9210395e-01, 3.5848650e-01, 2.8230974e-01, 1.8103328e-01,\n",
              "         3.5648799e-01, 2.2566818e-01, 1.8115747e-01, 3.6095574e-01,\n",
              "         2.0236249e-01, 1.8483084e-01, 3.5839614e-01, 2.0304069e-01,\n",
              "         1.8542205e-01, 3.6681974e-01, 1.5072672e-01, 2.3492929e-01,\n",
              "         3.7097761e-01, 4.2430264e-01, 2.3886335e-01, 3.7355345e-01,\n",
              "         1.4153399e-01, 2.5058633e-01, 3.6595029e-01, 4.7878930e-01,\n",
              "         2.9166016e-01, 3.2649517e-01, 1.9773485e-01, 1.9243281e-01,\n",
              "         3.2116830e-01, 1.9662490e-01, 3.0487716e-01, 3.0335146e-01,\n",
              "         1.6724339e-01, 3.8615006e-01, 3.4145895e-01, 2.6144624e-01,\n",
              "         3.8469514e-01, 3.4769726e-01, 2.1090269e-01, 5.3433812e-01,\n",
              "         3.5614747e-01, 3.4911695e-01, 5.3200012e-01, 3.6030236e-01,\n",
              "         2.9608402e-01, 6.8389237e-01, 4.0429875e-01, 3.9520493e-01,\n",
              "         6.7427719e-01, 4.0755489e-01, 1.8530132e-01],\n",
              "        [1.7799221e-01, 4.0958679e-01, 4.1435906e-01, 1.6291671e-01,\n",
              "         4.1052088e-01, 5.2553320e-01, 1.6003484e-01, 4.1072327e-01,\n",
              "         5.4811490e-01, 1.7521827e-01, 4.1780719e-01, 4.4902220e-01,\n",
              "         1.6778123e-01, 4.2501676e-01, 4.0875506e-01, 2.3294353e-01,\n",
              "         3.9718679e-01, 4.8024696e-01, 2.3116431e-01, 4.5973629e-01,\n",
              "         6.1585945e-01, 2.4750480e-01, 3.6242440e-01, 3.8198552e-01,\n",
              "         2.5748044e-01, 4.5791271e-01, 1.5836817e-01, 1.1643088e-01,\n",
              "         3.8785198e-01, 1.9786914e-01, 1.1529410e-01, 4.0566128e-01,\n",
              "         1.2433426e-01, 2.6675797e-01, 3.6922824e-01, 1.6215593e-02,\n",
              "         2.2766799e-01, 4.4874012e-01, 1.0072647e-02, 2.6621509e-01,\n",
              "         3.6508021e-01, 8.0478698e-02, 2.4945723e-01, 4.5493236e-01,\n",
              "         2.2348825e-02, 2.1881571e-01, 3.5732540e-01, 4.1277707e-02,\n",
              "         2.4579978e-01, 3.9944938e-01, 4.3817319e-02],\n",
              "        [2.5246143e-01, 6.4867401e-01, 2.8861769e-02, 2.4224451e-01,\n",
              "         6.4838958e-01, 2.5779540e-02, 2.4383149e-01, 6.4867920e-01,\n",
              "         1.9415822e-02, 2.4435574e-01, 6.4301372e-01, 2.3754328e-02,\n",
              "         2.5559163e-01, 6.4344138e-01, 2.2664597e-02, 2.6394960e-01,\n",
              "         6.3968891e-01, 4.2959269e-02, 2.6033288e-01, 6.2580389e-01,\n",
              "         2.0214692e-02, 2.8364605e-01, 6.6341782e-01, 4.3811169e-02,\n",
              "         2.8860599e-01, 6.4508361e-01, 2.4074176e-02, 2.9844710e-01,\n",
              "         6.5874493e-01, 5.1333576e-02, 2.9858303e-01, 6.5598011e-01,\n",
              "         3.6509618e-02, 3.1947082e-01, 6.2762517e-01, 7.2699845e-02,\n",
              "         3.1771225e-01, 6.2418777e-01, 3.2252911e-02, 3.5730943e-01,\n",
              "         6.5361857e-01, 6.7138672e-02, 3.5742575e-01, 6.5175694e-01,\n",
              "         8.3515875e-02, 3.9733249e-01, 6.5142936e-01, 5.0337769e-02,\n",
              "         3.9562890e-01, 6.4947021e-01, 5.1457603e-02],\n",
              "        [1.8645838e-01, 4.4292706e-01, 4.1730492e-03, 1.6369486e-01,\n",
              "         4.3862507e-01, 3.1763585e-03, 1.6484112e-01, 4.4294938e-01,\n",
              "         4.0515540e-03, 1.7161511e-01, 4.4221142e-01, 4.0352116e-03,\n",
              "         1.8064712e-01, 4.5295909e-01, 1.2879228e-02, 2.2761622e-01,\n",
              "         4.4768268e-01, 1.5242579e-02, 2.2865605e-01, 4.6358919e-01,\n",
              "         1.8907082e-01, 2.1729700e-01, 4.6067813e-01, 6.9935718e-03,\n",
              "         2.5772536e-01, 4.6848899e-01, 8.8508628e-02, 1.3843177e-01,\n",
              "         4.6503899e-01, 1.3048911e-02, 2.4252641e-01, 4.6535206e-01,\n",
              "         4.2164106e-02, 3.8409302e-01, 4.4218060e-01, 1.2107312e-02,\n",
              "         3.8319343e-01, 4.5600802e-01, 6.2889852e-02, 4.3132114e-01,\n",
              "         4.6263763e-01, 1.3174511e-03, 4.5750901e-01, 4.7473896e-01,\n",
              "         5.4604271e-03, 4.2694062e-01, 4.6613947e-01, 3.6951541e-03,\n",
              "         4.2690632e-01, 4.8698482e-01, 5.9648706e-03],\n",
              "        [2.5922817e-01, 9.1844398e-01, 6.6224107e-04, 2.3596142e-01,\n",
              "         9.4999671e-01, 1.2194487e-03, 2.4344295e-01, 9.4696391e-01,\n",
              "         3.4100967e-04, 2.9194134e-01, 9.6118945e-01, 9.4515497e-05,\n",
              "         2.6882100e-01, 8.0873621e-01, 6.3757958e-05, 2.9583389e-01,\n",
              "         9.4900811e-01, 1.4759689e-04, 4.5140633e-01, 7.6600122e-01,\n",
              "         6.8606503e-05, 4.7812420e-01, 9.6778941e-01, 4.2551616e-04,\n",
              "         5.9066921e-01, 8.6154515e-01, 1.1175340e-02, 4.0590739e-01,\n",
              "         1.0277985e+00, 2.0386053e-03, 4.6925420e-01, 9.3873352e-01,\n",
              "         8.2441879e-04, 7.6703298e-01, 1.0254505e+00, 6.7880478e-06,\n",
              "         9.5651162e-01, 8.5003012e-01, 9.7055585e-05, 8.5254067e-01,\n",
              "         1.0524539e+00, 4.2067468e-11, 9.7117305e-01, 8.6539143e-01,\n",
              "         1.1197031e-04, 8.4961051e-01, 1.0053376e+00, 3.5468684e-11,\n",
              "         9.5034856e-01, 7.7692562e-01, 1.1202225e-05]]], dtype=float32)"
            ]
          },
          "metadata": {},
          "execution_count": 16
        }
      ]
    },
    {
      "cell_type": "code",
      "source": [
        "keypoints_with_scores.shape"
      ],
      "metadata": {
        "colab": {
          "base_uri": "https://localhost:8080/"
        },
        "id": "huQIDqXTJbG5",
        "outputId": "fe7c338f-2b2b-4658-d461-866c070b07ee"
      },
      "execution_count": 18,
      "outputs": [
        {
          "output_type": "execute_result",
          "data": {
            "text/plain": [
              "(6, 17, 3)"
            ]
          },
          "metadata": {},
          "execution_count": 18
        }
      ]
    },
    {
      "cell_type": "markdown",
      "source": [
        "# Draw keypoints"
      ],
      "metadata": {
        "id": "Z-cZN6asREjO"
      }
    },
    {
      "cell_type": "code",
      "source": [
        "def draw_keypoints(frame, keypoints, confidence_threshold):\n",
        "    y, x, c = frame.shape\n",
        "    shaped = np.squeeze(np.multiply(keypoints, [y,x,1]))\n",
        "\n",
        "    for kp in shaped:\n",
        "        ky, kx, kp_conf = kp\n",
        "        if kp_conf > confidence_threshold:\n",
        "            cv2.circle(frame, (int(kx), int(ky)), 4, (0,255,0), -1)"
      ],
      "metadata": {
        "id": "y_DZYEIIKKq2"
      },
      "execution_count": 10,
      "outputs": []
    },
    {
      "cell_type": "markdown",
      "source": [
        "# Draw edges"
      ],
      "metadata": {
        "id": "eLoXkPDWRHKR"
      }
    },
    {
      "cell_type": "code",
      "source": [
        "EDGES = {\n",
        "    (0, 1): 'm',\n",
        "    (0, 2): 'c',\n",
        "    (1, 3): 'm',\n",
        "    (2, 4): 'c',\n",
        "    (0, 5): 'm',\n",
        "    (0, 6): 'c',\n",
        "    (5, 7): 'm',\n",
        "    (7, 9): 'm',\n",
        "    (6, 8): 'c',\n",
        "    (8, 10): 'c',\n",
        "    (5, 6): 'y',\n",
        "    (5, 11): 'm',\n",
        "    (6, 12): 'c',\n",
        "    (11, 12): 'y',\n",
        "    (11, 13): 'm',\n",
        "    (13, 15): 'm',\n",
        "    (12, 14): 'c',\n",
        "    (14, 16): 'c'\n",
        "}"
      ],
      "metadata": {
        "id": "pzFQ-820Q7mo"
      },
      "execution_count": 28,
      "outputs": []
    },
    {
      "cell_type": "markdown",
      "source": [
        "# Draw connections"
      ],
      "metadata": {
        "id": "AQuisN3URtq2"
      }
    },
    {
      "cell_type": "code",
      "source": [
        "def draw_connections(frame, keypoints, edges, confidence_threshold):\n",
        "    y, x, c = frame.shape\n",
        "    shaped = np.squeeze(np.multiply(keypoints, [y,x,1]))\n",
        "\n",
        "    for edge, color in edges.items():\n",
        "        p1, p2 = edge\n",
        "        y1, x1, c1 = shaped[p1][0], shaped[p1][1], shaped[p1][2]\n",
        "        y2, x2, c2 = shaped[p2][0], shaped[p2][1], shaped[p2][2]\n",
        "\n",
        "        if ((c1 > confidence_threshold) & (c2 > confidence_threshold)).any():\n",
        "            cv2.line(frame, (int(x1), int(y1)), (int(x2), int(y2)), (0,0,255), 2)"
      ],
      "metadata": {
        "id": "S6Ycy6P2Q-Sk"
      },
      "execution_count": 26,
      "outputs": []
    },
    {
      "cell_type": "code",
      "source": [],
      "metadata": {
        "id": "Ox_RmPizRvIw"
      },
      "execution_count": null,
      "outputs": []
    }
  ]
}